{
 "cells": [
  {
   "cell_type": "code",
   "execution_count": 1,
   "metadata": {},
   "outputs": [],
   "source": [
    "import sys\n",
    "sys.path.append('evolutionary_algorithms/')\n",
    "\n",
    "import gym\n",
    "import numpy as np\n",
    "from evolutionary_algorithms.classes.Population import *\n",
    "from evolutionary_algorithms.classes.EA import *\n",
    "from evolutionary_algorithms.classes.Recombination import *\n",
    "from evolutionary_algorithms.classes.Mutation import *\n",
    "from evolutionary_algorithms.classes.Selection import *\n",
    "from evolutionary_algorithms.classes.Evaluation import *"
   ]
  },
  {
   "cell_type": "code",
   "execution_count": 2,
   "metadata": {},
   "outputs": [],
   "source": [
    "# define population size \n",
    "env = gym.make('CartPole-v1')\n",
    "n_observations = np.sum([dim for dim in env.observation_space.shape]) \n",
    "n_actions = env.action_space.n\n",
    "\n",
    "pop_size = 4\n",
    "ind_size = n_observations * n_actions "
   ]
  },
  {
   "cell_type": "code",
   "execution_count": 3,
   "metadata": {},
   "outputs": [],
   "source": [
    "minimize = False\n",
    "budget = 200\n",
    "patience = 5\n",
    "parents_size = 2\n",
    "offspring_size = 4\n",
    "individual_size = ind_size\n",
    "recomb = Discrete()\n",
    "mutation = IndividualSigma()\n",
    "selection = PlusSelection()\n",
    "evaluation = RewardMaximization(env, reps=10)\n",
    "v = 1\n"
   ]
  },
  {
   "cell_type": "code",
   "execution_count": 4,
   "metadata": {},
   "outputs": [
    {
     "name": "stdout",
     "output_type": "stream",
     "text": [
      "Curr iteration: 0\n",
      "Best eval: 500.0 on budget: 18\n",
      "Curr iteration: 1\n",
      "Best eval: 500.0 on budget: 2\n",
      "Curr iteration: 2\n",
      "Best eval: 500.0 on budget: 106\n",
      "Curr iteration: 3\n",
      "Best eval: 500.0 on budget: 26\n",
      "Curr iteration: 4\n",
      "Best eval: 500.0 on budget: 38\n",
      "Curr iteration: 5\n",
      "Best eval: 500.0 on budget: 10\n",
      "Curr iteration: 6\n",
      "Best eval: 500.0 on budget: 42\n",
      "Curr iteration: 7\n",
      "Best eval: 500.0 on budget: 54\n",
      "Curr iteration: 8\n",
      "Best eval: 500.0 on budget: 138\n",
      "Curr iteration: 9\n",
      "Best eval: 500.0 on budget: 38\n"
     ]
    }
   ],
   "source": [
    "best_results = []\n",
    "for i in range(10):\n",
    "    print(f\"Curr iteration: {i}\")\n",
    "    ea = EA(minimize=minimize, budget=budget, patience=patience, \n",
    "        parents_size=parents_size, offspring_size=offspring_size,\n",
    "        individual_size=individual_size, recombination=recomb,\n",
    "        mutation=mutation, selection=selection, evaluation=evaluation,\n",
    "        verbose=v)\n",
    "    best_ind, best_eval = ea.run()\n",
    "    best_results.append([best_ind, best_eval])"
   ]
  },
  {
   "cell_type": "code",
   "execution_count": 5,
   "metadata": {},
   "outputs": [],
   "source": [
    "def eval(individual, env, render=False):\n",
    "    n_observations = np.sum([dim for dim in env.observation_space.shape]) \n",
    "    n_actions = env.action_space.n\n",
    "\n",
    "    done = False\n",
    "    state = env.reset()\n",
    "    if render:\n",
    "        env.render()\n",
    "    tot_rew = 0\n",
    "    done = False\n",
    "    while not done:\n",
    "        # SAmple action\n",
    "        a = np.argmax(np.dot(individual.reshape(n_actions, \n",
    "                                                n_observations), \n",
    "                                                state))\n",
    "        # query environment\n",
    "        state, rew, done, _ = env.step(a)\n",
    "        tot_rew += rew\n",
    "        if render:\n",
    "            env.render()\n",
    "    return tot_rew"
   ]
  },
  {
   "cell_type": "code",
   "execution_count": 6,
   "metadata": {},
   "outputs": [
    {
     "name": "stdout",
     "output_type": "stream",
     "text": [
      "[500.0, 499.2, 500.0, 500.0, 500.0, 500.0, 500.0, 500.0, 500.0, 500.0]\n"
     ]
    }
   ],
   "source": [
    "final_evals = []\n",
    "for ind in best_results:\n",
    "    evals = []\n",
    "    for i in range(10):\n",
    "        evals.append(eval(best_ind, env, render=False))\n",
    "    final_evals.append(np.mean(evals))\n",
    "\n",
    "print(final_evals)"
   ]
  },
  {
   "cell_type": "code",
   "execution_count": 10,
   "metadata": {},
   "outputs": [
    {
     "name": "stdout",
     "output_type": "stream",
     "text": [
      "chosen individual: 0\n",
      "[ 1.06375035  0.17006452  0.21370922 -0.39379628  0.90982325  0.85189231\n",
      "  0.414549    1.00477919]\n"
     ]
    }
   ],
   "source": [
    "# Save best individual to file\n",
    "best_ind_idx = np.argmax(final_evals)\n",
    "print(f\"chosen individual: {best_ind_idx}\")\n",
    "best_ind = best_results[best_ind_idx][0]\n",
    "np.save('results/test_experiment.npy', best_ind)\n",
    "print(best_ind)"
   ]
  },
  {
   "cell_type": "code",
   "execution_count": 8,
   "metadata": {},
   "outputs": [],
   "source": [
    "import numpy as np\n",
    "a = np.load('results/test_experiment.npy')"
   ]
  },
  {
   "cell_type": "code",
   "execution_count": 9,
   "metadata": {},
   "outputs": [
    {
     "name": "stdout",
     "output_type": "stream",
     "text": [
      "500.0\n"
     ]
    }
   ],
   "source": [
    "final_evals = []\n",
    "for i in range(10):\n",
    "    evals.append(eval(a, env, render=False))\n",
    "    final_evals.append(np.mean(evals))\n",
    "print(np.mean(final_evals))"
   ]
  },
  {
   "cell_type": "code",
   "execution_count": null,
   "metadata": {},
   "outputs": [],
   "source": []
  }
 ],
 "metadata": {
  "interpreter": {
   "hash": "3e3d537f7c047eb69d35d93db02503d7f99d5e4e21342e5ae19b3dd47808d68e"
  },
  "kernelspec": {
   "display_name": "Python 3.9.12 ('pytorch')",
   "language": "python",
   "name": "python3"
  },
  "language_info": {
   "codemirror_mode": {
    "name": "ipython",
    "version": 3
   },
   "file_extension": ".py",
   "mimetype": "text/x-python",
   "name": "python",
   "nbconvert_exporter": "python",
   "pygments_lexer": "ipython3",
   "version": "3.9.12"
  },
  "orig_nbformat": 4
 },
 "nbformat": 4,
 "nbformat_minor": 2
}
