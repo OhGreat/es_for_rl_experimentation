{
 "cells": [
  {
   "cell_type": "code",
   "execution_count": 1,
   "metadata": {},
   "outputs": [],
   "source": [
    "import sys\n",
    "sys.path.append('evolutionary_algorithms/')\n",
    "\n",
    "import gym\n",
    "import numpy as np\n",
    "from evolutionary_algorithms.classes.Population import *\n",
    "from evolutionary_algorithms.classes.EA import *\n",
    "from evolutionary_algorithms.classes.Recombination import *\n",
    "from evolutionary_algorithms.classes.Mutation import *\n",
    "from evolutionary_algorithms.classes.Selection import *\n",
    "from Evaluation import *"
   ]
  },
  {
   "cell_type": "code",
   "execution_count": 2,
   "metadata": {},
   "outputs": [],
   "source": [
    "# define population size \n",
    "env = gym.make('CartPole-v1')\n",
    "n_observations = np.sum([dim for dim in env.observation_space.shape]) \n",
    "n_actions = env.action_space.n\n",
    "\n",
    "pop_size = 4\n",
    "ind_size = n_observations * n_actions "
   ]
  },
  {
   "cell_type": "code",
   "execution_count": null,
   "metadata": {},
   "outputs": [],
   "source": []
  },
  {
   "cell_type": "code",
   "execution_count": 3,
   "metadata": {},
   "outputs": [],
   "source": [
    "minimize = False\n",
    "budget = 1000\n",
    "patience = 40\n",
    "parents_size = 2\n",
    "offspring_size = 4\n",
    "individual_size = ind_size\n",
    "recomb = Discrete()\n",
    "mutation = IndividualSigma()\n",
    "selection = PlusSelection()\n",
    "evaluation = RewardMaximization(env)\n",
    "v = 1\n"
   ]
  },
  {
   "cell_type": "code",
   "execution_count": 4,
   "metadata": {},
   "outputs": [
    {
     "name": "stdout",
     "output_type": "stream",
     "text": [
      "Curr iteration: 0\n",
      "Best eval: 500.0 on budget: 22\n",
      "Curr iteration: 1\n",
      "Best eval: 500.0 on budget: 46\n",
      "Curr iteration: 2\n",
      "Best eval: 500.0 on budget: 18\n",
      "Curr iteration: 3\n",
      "Best eval: 500.0 on budget: 90\n",
      "Curr iteration: 4\n",
      "Best eval: 500.0 on budget: 46\n",
      "Curr iteration: 5\n",
      "Best eval: 500.0 on budget: 50\n",
      "Curr iteration: 6\n",
      "Best eval: 500.0 on budget: 26\n",
      "Curr iteration: 7\n",
      "Best eval: 500.0 on budget: 14\n",
      "Curr iteration: 8\n",
      "Best eval: 500.0 on budget: 218\n",
      "Curr iteration: 9\n",
      "Best eval: 500.0 on budget: 26\n"
     ]
    }
   ],
   "source": [
    "for i in range(10):\n",
    "    print(f\"Curr iteration: {i}\")\n",
    "    ea = EA(minimize=minimize, budget=budget, patience=patience, \n",
    "        parents_size=parents_size, offspring_size=offspring_size,\n",
    "        individual_size=individual_size, recombination=recomb,\n",
    "        mutation=mutation, selection=selection, evaluation=evaluation,\n",
    "        verbose=v)\n",
    "    best_ind, _ = ea.run()\n"
   ]
  },
  {
   "cell_type": "code",
   "execution_count": 5,
   "metadata": {},
   "outputs": [
    {
     "data": {
      "text/plain": [
       "array([ 0.84748331,  1.39753905, -0.56365341, -0.1802398 ,  0.44023149,\n",
       "        2.91020844,  0.02771476,  1.18512429])"
      ]
     },
     "execution_count": 5,
     "metadata": {},
     "output_type": "execute_result"
    }
   ],
   "source": [
    "best_ind"
   ]
  },
  {
   "cell_type": "code",
   "execution_count": 6,
   "metadata": {},
   "outputs": [],
   "source": [
    "def eval(individual, env, render=False):\n",
    "    n_observations = np.sum([dim for dim in env.observation_space.shape]) \n",
    "    n_actions = env.action_space.n\n",
    "\n",
    "    done = False\n",
    "    state = env.reset()\n",
    "    if render:\n",
    "        env.render()\n",
    "    tot_rew = 0\n",
    "    done = False\n",
    "    while not done:\n",
    "        # SAmple action\n",
    "        a = np.argmax(np.dot(individual.reshape(n_actions, \n",
    "                                                n_observations), \n",
    "                                                state))\n",
    "        # query environment\n",
    "        state, rew, done, _ = env.step(a)\n",
    "        tot_rew += rew\n",
    "        if render:\n",
    "            env.render()\n",
    "    return tot_rew"
   ]
  },
  {
   "cell_type": "code",
   "execution_count": 7,
   "metadata": {},
   "outputs": [
    {
     "name": "stdout",
     "output_type": "stream",
     "text": [
      "500.0\n"
     ]
    }
   ],
   "source": [
    "evals = []\n",
    "for i in range(100):\n",
    "    evals.append(eval(best_ind, env, render=False))\n",
    "print(np.mean(evals))"
   ]
  },
  {
   "cell_type": "code",
   "execution_count": null,
   "metadata": {},
   "outputs": [],
   "source": []
  }
 ],
 "metadata": {
  "interpreter": {
   "hash": "3e3d537f7c047eb69d35d93db02503d7f99d5e4e21342e5ae19b3dd47808d68e"
  },
  "kernelspec": {
   "display_name": "Python 3.9.12 ('pytorch')",
   "language": "python",
   "name": "python3"
  },
  "language_info": {
   "codemirror_mode": {
    "name": "ipython",
    "version": 3
   },
   "file_extension": ".py",
   "mimetype": "text/x-python",
   "name": "python",
   "nbconvert_exporter": "python",
   "pygments_lexer": "ipython3",
   "version": "3.9.12"
  },
  "orig_nbformat": 4
 },
 "nbformat": 4,
 "nbformat_minor": 2
}
